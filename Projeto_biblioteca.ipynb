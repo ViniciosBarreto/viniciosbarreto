{
  "nbformat": 4,
  "nbformat_minor": 0,
  "metadata": {
    "colab": {
      "provenance": [],
      "authorship_tag": "ABX9TyOWlDYPqrlEym6ZiFymVv5q",
      "include_colab_link": true
    },
    "kernelspec": {
      "name": "python3",
      "display_name": "Python 3"
    },
    "language_info": {
      "name": "python"
    }
  },
  "cells": [
    {
      "cell_type": "markdown",
      "metadata": {
        "id": "view-in-github",
        "colab_type": "text"
      },
      "source": [
        "<a href=\"https://colab.research.google.com/github/ViniciosBarreto/viniciosbarreto/blob/main/Projeto_biblioteca.ipynb\" target=\"_parent\"><img src=\"https://colab.research.google.com/assets/colab-badge.svg\" alt=\"Open In Colab\"/></a>"
      ]
    },
    {
      "cell_type": "markdown",
      "source": [
        "# 2 Biblioteca de Livros: Sistema para catalogar e organizar livros."
      ],
      "metadata": {
        "id": "SxvSqiBQqCNQ"
      }
    },
    {
      "cell_type": "code",
      "execution_count": null,
      "metadata": {
        "id": "W3o7WrA8S6TJ"
      },
      "outputs": [],
      "source": [
        "livros = []\n",
        "def adicionar_livro():\n",
        "  isbn = int(input(\"Informe o ISBN do livro para adicionar: \"))\n",
        "  if isbn in livros:\n",
        "    print(\"ISBN já cadastrado, tente novamente : \")\n",
        "  else:\n",
        "    livros.append(isbn)\n",
        "\n",
        "  titulo = input(\"Informe o título do livro: \")\n",
        "  livros.append(titulo)\n",
        "\n",
        "def pesquisar_livro():\n",
        "  busca = int(input(\"Informe o ISBN do livro para buscar: \"))\n",
        "\n",
        "def remover_livro():\n",
        "  remocao = int(input(\"Informe o ISBN do livro para remover: \"))\n",
        "\n",
        "def todos_os_livros():\n",
        "  print()\n",
        "\n",
        "def sair():\n",
        "  return None"
      ]
    },
    {
      "cell_type": "code",
      "source": [],
      "metadata": {
        "id": "_aky3PcDqYTg"
      },
      "execution_count": null,
      "outputs": []
    },
    {
      "cell_type": "code",
      "source": [
        "adicionar_livro()"
      ],
      "metadata": {
        "id": "0V7onZWpkR5a"
      },
      "execution_count": null,
      "outputs": []
    }
  ]
}